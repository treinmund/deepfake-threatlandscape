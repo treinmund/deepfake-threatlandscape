{
 "cells": [
  {
   "cell_type": "code",
   "execution_count": 26,
   "id": "1b508e1e-b269-4d97-b4ba-a61ef0d8fac1",
   "metadata": {},
   "outputs": [],
   "source": [
    "# Load libraries\n",
    "import os\n",
    "import pandas as pd"
   ]
  },
  {
   "cell_type": "code",
   "execution_count": 60,
   "id": "d0bdf3f3-7b1f-45fc-9358-1be9f3a5080b",
   "metadata": {},
   "outputs": [],
   "source": [
    "# Set file path\n",
    "in_path = '/Users/tylund/Library/CloudStorage/Dropbox/1. Side Projects/2025.1-Deepfake Threat Landscape/1-data/deepfake-incidents'"
   ]
  },
  {
   "cell_type": "code",
   "execution_count": 134,
   "id": "7c7b612a-0b6d-4bf0-bf56-ab874014a285",
   "metadata": {},
   "outputs": [],
   "source": [
    "# Load data sets\n",
    "aiid_incidents_df = pd.read_csv(os.path.join(in_path, 'aiid_incidents_deepfakes.csv'))\n",
    "aiid_class_df = pd.read_csv(os.path.join(in_path, 'aiid_class_deepfakes.csv'))\n",
    "aaic_df = pd.read_csv(os.path.join(in_path, 'aaic_deepfakes.csv'))"
   ]
  },
  {
   "cell_type": "code",
   "execution_count": 135,
   "id": "c8a181af-5ae5-4448-9371-348d6af04973",
   "metadata": {},
   "outputs": [],
   "source": [
    "# Subset columns\n",
    "aaic_df = aaic_df[['Incident_ID', 'Headline','is_deepfake', 'comment']]\n",
    "aiid_class_df = aiid_class_df[['Incident ID', 'Known AI Goal Snippets', 'is_deepfake', 'comment']]\n",
    "aiid_incidents_df = aiid_incidents_df[['incident_id', 'description', 'title', 'is_deepfake', 'comment']]"
   ]
  },
  {
   "cell_type": "code",
   "execution_count": 136,
   "id": "53a1fe6d-72c2-47bf-a3cb-2b1ff3e0aa71",
   "metadata": {},
   "outputs": [],
   "source": [
    "# Normalize columns\n",
    "aaic_df = aaic_df.rename(columns={\n",
    "    'Incident_ID': 'incident_id',\n",
    "    'Headline': 'title',\n",
    "    'Date': 'date'\n",
    "}\n",
    ")\n",
    "\n",
    "aiid_class_df = aiid_class_df.rename(columns={\n",
    "    'Incident ID': 'incident_id',\n",
    "    'Known AI Goal Snippets': 'title'\n",
    "}\n",
    ")\n",
    "\n",
    "aiid_incidents_df = aiid_incidents_df.rename(columns={\n",
    "    'incident_ID': 'incident_id'\n",
    "}\n",
    ")"
   ]
  },
  {
   "cell_type": "code",
   "execution_count": 137,
   "id": "da73f333-7288-4eef-955d-6b9bc7588c85",
   "metadata": {},
   "outputs": [],
   "source": [
    "# Combine AIID data frames\n",
    "aiid_class_df['description'] = ''\n",
    "\n",
    "aiid_df = pd.concat([aiid_class_df, aiid_incidents_df], ignore_index=True)\n",
    "\n",
    "# Create a flag for whether description exists\n",
    "aiid_df[\"has_description\"] = aiid_df[\"description\"].notna() & (aiid_df[\"description\"] != \"\")\n",
    "\n",
    "# Sort by this flag so rows with description come first\n",
    "aiid_df = aiid_df.sort_values(by=\"has_description\", ascending=False)\n",
    "\n",
    "# Drop duplicates, keeping the first occurrence (which will have a description if it exists)\n",
    "aiid_df = aiid_df.drop_duplicates(subset=\"incident_id\", keep=\"first\")\n",
    "\n",
    "# Drop the helper column\n",
    "aiid_df = aiid_df.drop(columns=[\"has_description\"])"
   ]
  },
  {
   "cell_type": "markdown",
   "id": "fe1890da-d7b4-4ec8-8b95-5cef4734046a",
   "metadata": {},
   "source": [
    "## Local LLM Implementation"
   ]
  },
  {
   "cell_type": "code",
   "execution_count": 38,
   "id": "56574ed1-2ee9-4cc3-b7bf-64d3ab0c6b89",
   "metadata": {},
   "outputs": [],
   "source": [
    "from langchain.llms import Ollama\n",
    "from langchain_core.prompts import PromptTemplate\n",
    "from langchain.chains import LLMChain"
   ]
  },
  {
   "cell_type": "code",
   "execution_count": 56,
   "id": "5af1c807-7146-4e15-bb80-e62690cc8a0d",
   "metadata": {},
   "outputs": [],
   "source": [
    "# Initialize Ollama model\n",
    "llm = Ollama(model=\"mistral\")\n",
    "\n",
    "# Define the prompt template\n",
    "prompt_template = \"\"\"\n",
    "You are an expert in AI ethics and threat analysis. Your task is to determine whether the following incident aligns with the definition of a deepfake.\n",
    "\n",
    "Definition: A deepfake is a highly realistic image, video, or audio recording created with deep learning techniques that falsely depicts a real, identifiable person (or the impression of a real, identifiable person) saying or doing something they never did. Deepfakes are distinguished from other forms of synthetic media by their focus on manipulating or impersonating actual individuals, often with harmful or deceptive intent.\n",
    "\n",
    "Incident:\n",
    "<title>\n",
    "{title}\n",
    "</title>\n",
    "<description>\n",
    "{description}\n",
    "</description>\n",
    "\n",
    "Question: Does this incident qualify as a deepfake according to the definition above?\n",
    "Answer only with TRUE or FALSE.\n",
    "\"\"\"\n",
    "\n",
    "prompt = PromptTemplate(\n",
    "    input_variables=['title', 'description'],\n",
    "    template = prompt_template\n",
    ")\n",
    "\n",
    "chain = prompt | llm\n",
    "\n",
    "# Function to classify incidents\n",
    "def classify_incident(title, description):\n",
    "    result = chain.invoke({\n",
    "        'title': title,\n",
    "        'description': description\n",
    "    }\n",
    "    )\n",
    "    return result.strip().upper()  # Ensure it's just TRUE/FALSE"
   ]
  },
  {
   "cell_type": "code",
   "execution_count": 59,
   "id": "1ecbe5d2-4a28-45a7-bc84-72fdad1c2cf7",
   "metadata": {},
   "outputs": [
    {
     "name": "stdout",
     "output_type": "stream",
     "text": [
      "TRUE\n"
     ]
    }
   ],
   "source": [
    "# Example\n",
    "title = \"Alleged Deepfake CFO Scam Reportedly Costs Multinational Engineering Firm Arup $25 Million\"\n",
    "description = \"A finance employee at the multinational engineering firm Arup was reportedly deceived into transferring $25 million by fraudsters using purported deepfake technology to impersonate the firm's CFO in a video call, according to the Hong Kong police.\"\n",
    "\n",
    "print(classify_incident(title, description))"
   ]
  },
  {
   "cell_type": "code",
   "execution_count": 47,
   "id": "491c2fc6-f278-4d4b-9b48-46e4afc03ab3",
   "metadata": {},
   "outputs": [
    {
     "name": "stdout",
     "output_type": "stream",
     "text": [
      "input_variables=['description', 'title'] input_types={} partial_variables={} template='\\nYou are an expert in AI ethics and threat analysis. Your task is to determine whether the following incident aligns with the definition of a deepfake.\\n\\nDefinition: A deepfake is a highly realistic image, video, or audio recording created with deep learning techniques that falsely depicts a real, identifiable person (or the impression of a real, identifiable person) saying or doing something they never did. Deepfakes are distinguished from other forms of synthetic media by their focus on manipulating or impersonating actual individuals, often with harmful or deceptive intent.\\n\\nIncident:\\n<title>\\n{title}\\n</title>\\n<description>\\n{description}\\n</description>\\n\\nQuestion: Does this incident qualify as a deepfake according to the definition above?\\nAnswer only with TRUE or FALSE.\\n'\n"
     ]
    }
   ],
   "source": [
    "print(prompt)"
   ]
  },
  {
   "cell_type": "markdown",
   "id": "f5377663-1e42-48a7-88e4-af52a1a7a54d",
   "metadata": {},
   "source": [
    "## OpenAI API Implementation"
   ]
  },
  {
   "cell_type": "code",
   "execution_count": 155,
   "id": "7259a075-3208-4dfa-9d52-219101a177e2",
   "metadata": {},
   "outputs": [],
   "source": [
    "from dotenv import load_dotenv\n",
    "from openai import OpenAI\n",
    "from tqdm import tqdm\n",
    "from openai import RateLimitError, APIError, Timeout\n",
    "import time\n",
    "\n",
    "load_dotenv()  # loads variables from .env\n",
    "client = OpenAI(api_key=os.getenv(\"OPENAI_API_KEY\"))\n",
    "\n",
    "# Enable tqdm for pandas\n",
    "tqdm.pandas(desc=\"Classifying events\")"
   ]
  },
  {
   "cell_type": "code",
   "execution_count": 156,
   "id": "49c84cac-d361-4acf-bd61-85e0c79128f3",
   "metadata": {},
   "outputs": [],
   "source": [
    "def gpt_classification_wrapper(title: str, description: str = \"\", max_retries: int = 5) -> str:\n",
    "    \"\"\"\n",
    "    Classify whether an incident is a deepfake (TRUE/FALSE) using GPT-4o mini.\n",
    "    Handles retries on rate limit or transient errors.\n",
    "    \"\"\"\n",
    "    # Handle None input gracefully\n",
    "    title = title or \"\"\n",
    "    description = description or \"\"\n",
    "\n",
    "    prompt = f\"\"\"\n",
    "You are an expert in AI ethics and threat analysis. Your task is to determine whether the following incident aligns with the definition of a deepfake.  \n",
    "\n",
    "Definition: A deepfake is a highly realistic image, video, or audio recording created with deep learning techniques that falsely depicts a real, identifiable person, or a synthetic person designed to impersonate one, saying or doing something they never did. In this analysis, deepfakes are distinguished from other forms of synthetic media by their focus on manipulating or impersonating actual individuals, often with harmful or deceptive intent.  \n",
    "\n",
    "Incident:\n",
    "<title>\n",
    "{title}\n",
    "</title>\n",
    "<description>\n",
    "{description}\n",
    "</description>\n",
    "\n",
    "Question: Does this incident qualify as a deepfake according to the definition above?  \n",
    "Answer only with TRUE or FALSE.\n",
    "    \"\"\"\n",
    "\n",
    "    retries = 0\n",
    "    while retries < max_retries:\n",
    "        try:\n",
    "            response = client.chat.completions.create(\n",
    "                model=\"gpt-4o-mini\",\n",
    "                messages=[{\"role\": \"user\", \"content\": prompt}],\n",
    "                temperature=0  # deterministic\n",
    "            )\n",
    "            answer = response.choices[0].message.content.strip().upper()\n",
    "\n",
    "            # Safety check → enforce only TRUE/FALSE output\n",
    "            if answer in [\"TRUE\", \"FALSE\"]:\n",
    "                return answer\n",
    "            else:\n",
    "                return \"INVALID\"\n",
    "\n",
    "        except (RateLimitError, APIError, Timeout) as e:\n",
    "            retries += 1\n",
    "            wait_time = 2 ** retries\n",
    "            print(f\"API error: {e}. Retrying in {wait_time} seconds...\")\n",
    "            time.sleep(wait_time)\n",
    "        except Exception as e:\n",
    "            print(f\"Unexpected error: {e}\")\n",
    "            return \"ERROR\"\n",
    "\n",
    "    # If max retries exceeded\n",
    "    return \"ERROR\""
   ]
  },
  {
   "cell_type": "code",
   "execution_count": 157,
   "id": "b1b2aa54-b7c7-4abe-8b99-690dfdc229ea",
   "metadata": {},
   "outputs": [],
   "source": [
    "def classify_events(df: pd.DataFrame, title_col=\"title\", desc_col=\"description\") -> pd.DataFrame:\n",
    "    \"\"\"\n",
    "    Apply GPT-based deepfake classification to the dataframe.\n",
    "    Works with datasets that may or may not have a description column.\n",
    "    Compares GPT classification with manual label 'is_deepfake' and adds a match column.\n",
    "    Displays a progress bar during classification.\n",
    "    \"\"\"\n",
    "    df = df.copy()\n",
    "\n",
    "    # Ensure manual label exists\n",
    "    if \"is_deepfake\" not in df.columns:\n",
    "        raise ValueError(\"Dataframe must contain an 'is_deepfake' column for manual labels.\")\n",
    "\n",
    "    # Determine if description column exists\n",
    "    has_description = desc_col in df.columns and df[desc_col].notna().any()\n",
    "\n",
    "    # Apply GPT classification with progress bar\n",
    "    if has_description:\n",
    "        df[\"gpt_classification\"] = df.progress_apply(\n",
    "            lambda row: gpt_classification_wrapper(row[title_col], row[desc_col]),\n",
    "            axis=1\n",
    "        )\n",
    "    else:\n",
    "        df[\"gpt_classification\"] = df[title_col].progress_apply(\n",
    "            lambda t: gpt_classification_wrapper(t, \"\")\n",
    "        )\n",
    "\n",
    "    # Add match column\n",
    "    df[\"match\"] = df[\"is_deepfake\"].astype(str).str.upper() == df[\"gpt_classification\"]\n",
    "\n",
    "    return df"
   ]
  },
  {
   "cell_type": "code",
   "execution_count": 158,
   "id": "9da816af-7fcb-4fea-a7f0-8db17b1f2b7d",
   "metadata": {},
   "outputs": [
    {
     "name": "stderr",
     "output_type": "stream",
     "text": [
      "Classifying events: 100%|█████████████████████| 401/401 [04:44<00:00,  1.41it/s]\n"
     ]
    }
   ],
   "source": [
    "#aiid_gpt_results = classify_events(aiid_df)"
   ]
  },
  {
   "cell_type": "code",
   "execution_count": 159,
   "id": "f619ac62-9bd1-46b3-b09d-817806c3641c",
   "metadata": {},
   "outputs": [],
   "source": [
    "aiid_gpt_results.to_csv(os.path.join(in_path, 'aiid_gpt_results.csv'))"
   ]
  },
  {
   "cell_type": "code",
   "execution_count": 160,
   "id": "bb855a70-03b3-49e6-b4ea-29f3bbe74063",
   "metadata": {},
   "outputs": [
    {
     "data": {
      "text/plain": [
       "match\n",
       "True     349\n",
       "False     52\n",
       "Name: count, dtype: int64"
      ]
     },
     "execution_count": 160,
     "metadata": {},
     "output_type": "execute_result"
    }
   ],
   "source": [
    "aiid_gpt_results['match'].value_counts()"
   ]
  },
  {
   "cell_type": "code",
   "execution_count": 162,
   "id": "5c59214c-b0f1-4598-98d2-499c9cceeb00",
   "metadata": {},
   "outputs": [
    {
     "name": "stderr",
     "output_type": "stream",
     "text": [
      "Classifying events: 100%|█████████████████████| 282/282 [03:38<00:00,  1.29it/s]\n"
     ]
    }
   ],
   "source": [
    "#aaic_gpt_results = classify_events(aaic_df)"
   ]
  },
  {
   "cell_type": "code",
   "execution_count": 164,
   "id": "87051414-a11e-4c5c-9e67-557662c59f67",
   "metadata": {},
   "outputs": [],
   "source": [
    "aaic_gpt_results.to_csv(os.path.join(in_path, 'aaic_gpt_results.csv'))"
   ]
  },
  {
   "cell_type": "code",
   "execution_count": 163,
   "id": "1cbf0ef0-f4bb-462f-84fc-45b0a9beeca8",
   "metadata": {},
   "outputs": [
    {
     "data": {
      "text/plain": [
       "match\n",
       "True     213\n",
       "False     69\n",
       "Name: count, dtype: int64"
      ]
     },
     "execution_count": 163,
     "metadata": {},
     "output_type": "execute_result"
    }
   ],
   "source": [
    "aaic_gpt_results['match'].value_counts()"
   ]
  },
  {
   "cell_type": "code",
   "execution_count": null,
   "id": "12d9c261-520a-4f17-9924-45ebe97d56f6",
   "metadata": {},
   "outputs": [],
   "source": []
  }
 ],
 "metadata": {
  "kernelspec": {
   "display_name": "Python 3 (ipykernel)",
   "language": "python",
   "name": "python3"
  },
  "language_info": {
   "codemirror_mode": {
    "name": "ipython",
    "version": 3
   },
   "file_extension": ".py",
   "mimetype": "text/x-python",
   "name": "python",
   "nbconvert_exporter": "python",
   "pygments_lexer": "ipython3",
   "version": "3.13.1"
  }
 },
 "nbformat": 4,
 "nbformat_minor": 5
}
