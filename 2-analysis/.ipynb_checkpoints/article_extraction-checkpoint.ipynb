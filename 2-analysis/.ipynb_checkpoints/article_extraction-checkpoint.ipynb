{
 "cells": [
  {
   "cell_type": "markdown",
   "id": "0002990e-9b2c-4f49-8e3a-fd7b55d237b7",
   "metadata": {},
   "source": [
    "## Extract Text Data from News Articles"
   ]
  },
  {
   "cell_type": "markdown",
   "id": "5825184e-0ba1-4167-a084-b24d7e9094aa",
   "metadata": {},
   "source": [
    "### Setup and Data Load"
   ]
  },
  {
   "cell_type": "code",
   "execution_count": 3,
   "id": "659c0408-9db6-4973-b85b-2496c33c5dc9",
   "metadata": {},
   "outputs": [],
   "source": [
    "# Import standard libraries\n",
    "import random\n",
    "import time\n",
    "import os\n",
    "import pandas as pd\n",
    "import glob\n",
    "import json\n",
    "from typing import Dict\n",
    "import openpyxl"
   ]
  },
  {
   "cell_type": "code",
   "execution_count": 2,
   "id": "3dcd43dc-4e22-4110-826b-992045766315",
   "metadata": {},
   "outputs": [],
   "source": [
    "# Import text extraction libraries\n",
    "from newspaper import Article as newspaper3kArticle\n",
    "import newspaper as newspaper4k"
   ]
  },
  {
   "cell_type": "code",
   "execution_count": 25,
   "id": "7a05f09b-6e01-4898-bc0e-ca17bece6a84",
   "metadata": {},
   "outputs": [],
   "source": [
    "# Set input and output directories\n",
    "deepfake_path = \"/Users/tylund/Library/CloudStorage/Dropbox/1. Side Projects/2025.1-Deepfake Threat Landscape/1-data/deepfake-incidents\"\n",
    "repo_path = \"/Users/tylund/Library/CloudStorage/Dropbox/1. Side Projects/2025.1-Deepfake Threat Landscape/1-data/incident-repos\"\n",
    "\n",
    "out_path = \"/Users/tylund/Library/CloudStorage/Dropbox/1. Side Projects/2025.1-Deepfake Threat Landscape/1-data/temp\""
   ]
  },
  {
   "cell_type": "code",
   "execution_count": null,
   "id": "065b6ecf-7f6f-471a-bc6f-1379da5b7003",
   "metadata": {},
   "outputs": [],
   "source": [
    "# Read the files\n",
    "aaic_deepfakes = pd.read_csv(os.path.join(deepfake_path, 'aaic_gpt_results.csv'))\n",
    "aaic_repo = pd.read_excel(os.path.join(repo_path, 'AIAAIC-repository-09042025.xlsx'),\n",
    "                         sheet_name='Incidents',\n",
    "                         skiprows=1)\n",
    "\n",
    "aaic_repo = aaic_repo[['AIAAIC ID#', 'Summary/links']].rename(columns = {'AIAAIC ID#': 'incident_id',\n",
    "                                                                         'Summary/links': 'URL'\n",
    "                                                                        })"
   ]
  },
  {
   "cell_type": "code",
   "execution_count": 15,
   "id": "1a9a02d7-4d82-4c74-aa72-aaf271917ac3",
   "metadata": {},
   "outputs": [],
   "source": [
    "# Construct dataframe of incident IDs and URLs\n",
    "cols_to_drop = ['is_deepfake', 'comment', 'gpt_classification', 'match']\n",
    "\n",
    "# Select incidents that passed screening\n",
    "aaic_deepfakes = aaic_deepfakes[aaic_deepfakes['final']].drop(cols_to_drop, axis=1)\n",
    "\n",
    "# Merge URLs\n",
    "aaic_deepfakes = pd.merge(aaic_deepfakes, aaic_repo, on='incident_id', how='left')"
   ]
  },
  {
   "cell_type": "markdown",
   "id": "7d04b957-d038-421a-b798-5db9ad306599",
   "metadata": {},
   "source": [
    "### Define Library Wrappers"
   ]
  },
  {
   "cell_type": "code",
   "execution_count": 20,
   "id": "204bb680-d75e-4138-849f-c66356bbbb98",
   "metadata": {},
   "outputs": [],
   "source": [
    "# Define canonical column order\n",
    "COLUMNS = [\n",
    "    'success',\n",
    "    'title',\n",
    "    'text',\n",
    "    'text_length',\n",
    "    'elapsed_time',\n",
    "    'error'  # optional, always present for failures\n",
    "]"
   ]
  },
  {
   "cell_type": "code",
   "execution_count": 21,
   "id": "16b76e53-55cd-4a46-a1bb-2c8a990779ac",
   "metadata": {},
   "outputs": [],
   "source": [
    "def check_for_blocks(text: str, url: str) -> Dict:\n",
    "    \"\"\"Return success=False if blocked by paywall or JS-heavy page.\"\"\"\n",
    "    blocked_phrases = [\n",
    "        \"unauthorized access\", \"subscription required\", \"javascript is not available\",\n",
    "        \"please enable javascript\", \"you must be logged in\", \"access denied\"\n",
    "    ]\n",
    "    if any(phrase.lower() in text.lower() for phrase in blocked_phrases):\n",
    "        return {\"success\": False, \"error\": \"blocked_content\"}\n",
    "    return {\"success\": True}"
   ]
  },
  {
   "cell_type": "markdown",
   "id": "50e9e5ea-893f-4cb3-ab29-f275b70b003f",
   "metadata": {},
   "source": [
    "#### ---- Newspaper3k ----"
   ]
  },
  {
   "cell_type": "code",
   "execution_count": 29,
   "id": "8d125ce0-10cd-4a27-866b-06533a5116e4",
   "metadata": {},
   "outputs": [],
   "source": [
    "def extract_newspaper3k(url: str) -> Dict:\n",
    "    start = time.time()\n",
    "    try:\n",
    "        article = newspaper3kArticle(url)\n",
    "        article.download()\n",
    "        article.parse()\n",
    "        text = article.text or \"\"\n",
    "        title = article.title or None\n",
    "\n",
    "        # Check for JS/paywall blocks\n",
    "        block_check = check_for_blocks(text, url)\n",
    "        if not block_check[\"success\"]:\n",
    "            return {\"success\": False, \"error\": block_check[\"error\"], \"text\": \"\"}\n",
    "\n",
    "        return {\n",
    "            \"success\": True,\n",
    "            \"text\": text,\n",
    "            \"title\": title,\n",
    "            \"text_length\": len(text),\n",
    "            \"elapsed_time\": round(time.time() - start, 3),\n",
    "            \"error\": \"\"\n",
    "        }\n",
    "\n",
    "    except Exception as e:\n",
    "        return {\"success\": False, \"error\": str(e), \"text\": \"\"}"
   ]
  },
  {
   "cell_type": "markdown",
   "id": "fda6b3f9-b975-45eb-8a60-6db7d159ac59",
   "metadata": {},
   "source": [
    "#### ---- Newspaper4k ----"
   ]
  },
  {
   "cell_type": "code",
   "execution_count": 30,
   "id": "7a45b143-2697-4420-93d2-fa19e4245d7f",
   "metadata": {},
   "outputs": [],
   "source": [
    "def extract_newspaper4k(url: str) -> Dict:\n",
    "    start = time.time()\n",
    "    try:\n",
    "        article = newspaper4k.Article(url)\n",
    "        article.download()\n",
    "        article.parse()\n",
    "\n",
    "        try:\n",
    "            text = article.text or \"\"\n",
    "            title = article.title or None\n",
    "        except Exception as inner_e:\n",
    "            return {\"success\": False, \"error\": f\"parse_error: {inner_e}\", \"text\": \"\"}\n",
    "\n",
    "        # Check for JS/paywall blocks\n",
    "        block_check = check_for_blocks(text, url)\n",
    "        if not block_check[\"success\"]:\n",
    "            return {\"success\": False, \"error\": block_check[\"error\"], \"text\": \"\"}\n",
    "\n",
    "        return {\n",
    "            \"success\": True,\n",
    "            \"text\": text,\n",
    "            \"title\": title,\n",
    "            \"text_length\": len(text),\n",
    "            \"elapsed_time\": round(time.time() - start, 3),\n",
    "            \"error\": \"\"\n",
    "        }\n",
    "\n",
    "    except Exception as e:\n",
    "        return {\"success\": False, \"error\": str(e), \"text\": \"\"}"
   ]
  },
  {
   "cell_type": "markdown",
   "id": "6f3fef9f-6dae-4f36-b753-f907a1bb637c",
   "metadata": {},
   "source": [
    "#### Initial tests"
   ]
  },
  {
   "cell_type": "code",
   "execution_count": 31,
   "id": "ddb61b53-e4c3-4a18-b83b-ff73c84492f9",
   "metadata": {},
   "outputs": [],
   "source": [
    "# Sample dataframe\n",
    "sample_df = aaic_deepfakes.sample(3)"
   ]
  },
  {
   "cell_type": "code",
   "execution_count": 35,
   "id": "fb348fbb-b530-4ce5-a286-2ffbe291b7e4",
   "metadata": {},
   "outputs": [],
   "source": [
    "# Newspaper3k\n",
    "results = []\n",
    "\n",
    "for _, row in sample_df.iterrows():\n",
    "    url = row['URL']\n",
    "    incident_id = row['incident_id']\n",
    "    \n",
    "    result = extract_newspaper3k(url)\n",
    "    result['incident_id'] = incident_id\n",
    "    result['URL'] = url\n",
    "    \n",
    "    results.append(result)\n",
    "\n",
    "# Convert results into a dataframe\n",
    "test_newspaper3k = pd.DataFrame(results)\n",
    "\n",
    "test_newspaper3k.to_csv(os.path.join(out_path, 'test_newspaper3k.csv'), index=False)"
   ]
  },
  {
   "cell_type": "code",
   "execution_count": 38,
   "id": "ad1f64b1-54c3-4bb5-a9ee-228ca7bbc918",
   "metadata": {},
   "outputs": [],
   "source": [
    "# Newspaper4k\n",
    "results = []\n",
    "\n",
    "for _, row in sample_df.iterrows():\n",
    "    url = row['URL']\n",
    "    incident_id = row['incident_id']\n",
    "    \n",
    "    result = extract_newspaper4k(url)\n",
    "    result['incident_id'] = incident_id\n",
    "    result['URL'] = url\n",
    "    \n",
    "    results.append(result)\n",
    "\n",
    "# Convert results into a dataframe\n",
    "test_newspaper4k = pd.DataFrame(results)\n",
    "\n",
    "test_newspaper4k.to_csv(os.path.join(out_path, 'test_newspaper4k.csv'), index=False)"
   ]
  },
  {
   "cell_type": "markdown",
   "id": "74916d14-1cb7-43d8-abd9-fbedeba06a28",
   "metadata": {},
   "source": [
    "### Data Extraction"
   ]
  },
  {
   "cell_type": "code",
   "execution_count": null,
   "id": "9578c86b-6840-4c07-a48b-194cc2cbcba9",
   "metadata": {},
   "outputs": [],
   "source": []
  }
 ],
 "metadata": {
  "kernelspec": {
   "display_name": "Python 3 (ipykernel)",
   "language": "python",
   "name": "python3"
  },
  "language_info": {
   "codemirror_mode": {
    "name": "ipython",
    "version": 3
   },
   "file_extension": ".py",
   "mimetype": "text/x-python",
   "name": "python",
   "nbconvert_exporter": "python",
   "pygments_lexer": "ipython3",
   "version": "3.13.1"
  }
 },
 "nbformat": 4,
 "nbformat_minor": 5
}
